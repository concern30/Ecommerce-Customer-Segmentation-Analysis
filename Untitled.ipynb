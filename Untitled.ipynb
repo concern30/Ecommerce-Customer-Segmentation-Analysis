{
 "cells": [
  {
   "cell_type": "code",
   "execution_count": 1,
   "id": "76a45f1b-85ea-4594-9f17-b0730c2c35c2",
   "metadata": {},
   "outputs": [
    {
     "name": "stdout",
     "output_type": "stream",
     "text": [
      "--- Step 1: Libraries imported successfully. ---\n",
      "--- Step 2: Data loaded, cleaned, and saved as 'cleaned_retail_data.csv'. ---\n",
      "--- Step 3: RFM segmentation complete. ---\n",
      "\n",
      "--- PYTHON ANALYSIS COMPLETE! ---\n",
      "Two files have been created in your folder:\n",
      "1. cleaned_retail_data.csv (for country analysis)\n",
      "2. rfm_segmented_data.csv (for customer analysis)\n",
      "You are now ready to move to Tableau.\n"
     ]
    }
   ],
   "source": [
    "# =============================================================================\n",
    "# THE DEFINITIVE DATA PREPARATION & ANALYSIS SCRIPT\n",
    "# =============================================================================\n",
    "# This single block of code will perform all necessary steps in Python.\n",
    "\n",
    "# --- 1. IMPORT LIBRARIES ---\n",
    "# We bring in our tools: pandas for data tables and sklearn for machine learning.\n",
    "import pandas as pd\n",
    "import datetime as dt\n",
    "from sklearn.cluster import KMeans\n",
    "\n",
    "print(\"--- Step 1: Libraries imported successfully. ---\")\n",
    "\n",
    "# --- 2. LOAD AND CLEAN THE DATA (ERROR-FREE) ---\n",
    "try:\n",
    "    # Load the CSV file. The 'encoding' is to handle special characters.\n",
    "    df_raw = pd.read_csv('OnlineRetail.csv', encoding='ISO-8859-1')\n",
    "\n",
    "    # THE CRITICAL FIX: We tell pandas the EXACT format of the date string.\n",
    "    # %m/%d/%Y %H:%M means Month/Day/Year Hour:Minute\n",
    "    df_raw['InvoiceDate'] = pd.to_datetime(df_raw['InvoiceDate'], format='%m/%d/%Y %H:%M')\n",
    "\n",
    "    # Remove rows without a CustomerID.\n",
    "    df_raw.dropna(subset=['CustomerID'], inplace=True)\n",
    "\n",
    "    # Remove canceled orders (Quantity < 0) and free items (UnitPrice = 0).\n",
    "    df_raw = df_raw[df_raw['Quantity'] > 0]\n",
    "    df_raw = df_raw[df_raw['UnitPrice'] > 0]\n",
    "\n",
    "    # Create the 'TotalPrice' column.\n",
    "    df_raw['TotalPrice'] = df_raw['Quantity'] * df_raw['UnitPrice']\n",
    "    \n",
    "    # Save this cleaned version for one of our charts.\n",
    "    df_raw.to_csv('cleaned_retail_data.csv', index=False)\n",
    "    \n",
    "    print(\"--- Step 2: Data loaded, cleaned, and saved as 'cleaned_retail_data.csv'. ---\")\n",
    "\n",
    "except FileNotFoundError:\n",
    "    print(\"FATAL ERROR: 'OnlineRetail.csv' not found. Please make sure it's in the same folder.\")\n",
    "except Exception as e:\n",
    "    print(f\"An unexpected error occurred during cleaning: {e}\")\n",
    "\n",
    "# --- 3. RFM CUSTOMER SEGMENTATION ---\n",
    "# Now we create the aggregated data for segmentation.\n",
    "\n",
    "# Set a \"snapshot\" date for our analysis.\n",
    "snapshot_date = df_raw['InvoiceDate'].max() + dt.timedelta(days=1)\n",
    "\n",
    "# Calculate Recency, Frequency, and Monetary values.\n",
    "rfm = df_raw.groupby('CustomerID').agg({\n",
    "    'InvoiceDate': lambda date: (snapshot_date - date.max()).days,\n",
    "    'InvoiceNo': 'nunique',\n",
    "    'TotalPrice': 'sum'\n",
    "})\n",
    "rfm.rename(columns={'InvoiceDate': 'Recency', 'InvoiceNo': 'Frequency', 'TotalPrice': 'Monetary'}, inplace=True)\n",
    "\n",
    "# Use K-Means algorithm to create 4 customer segments.\n",
    "kmeans = KMeans(n_clusters=4, random_state=42, n_init=10)\n",
    "rfm['Segment'] = kmeans.fit_predict(rfm[['Recency', 'Frequency', 'Monetary']])\n",
    "\n",
    "print(\"--- Step 3: RFM segmentation complete. ---\")\n",
    "\n",
    "# --- 4. EXPORT THE FINAL SEGMENTED DATA ---\n",
    "# We save our final segmented data to a new CSV file.\n",
    "rfm.to_csv('rfm_segmented_data.csv')\n",
    "\n",
    "print(\"\\n--- PYTHON ANALYSIS COMPLETE! ---\")\n",
    "print(\"Two files have been created in your folder:\")\n",
    "print(\"1. cleaned_retail_data.csv (for country analysis)\")\n",
    "print(\"2. rfm_segmented_data.csv (for customer analysis)\")\n",
    "print(\"You are now ready to move to Tableau.\")"
   ]
  },
  {
   "cell_type": "code",
   "execution_count": null,
   "id": "d09eabcd-46d8-4a41-a9ed-17b9dfbad635",
   "metadata": {},
   "outputs": [],
   "source": []
  }
 ],
 "metadata": {
  "kernelspec": {
   "display_name": "Python 3 (ipykernel)",
   "language": "python",
   "name": "python3"
  },
  "language_info": {
   "codemirror_mode": {
    "name": "ipython",
    "version": 3
   },
   "file_extension": ".py",
   "mimetype": "text/x-python",
   "name": "python",
   "nbconvert_exporter": "python",
   "pygments_lexer": "ipython3",
   "version": "3.13.5"
  }
 },
 "nbformat": 4,
 "nbformat_minor": 5
}
